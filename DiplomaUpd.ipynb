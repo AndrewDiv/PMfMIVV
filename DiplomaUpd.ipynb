{
  "nbformat": 4,
  "nbformat_minor": 0,
  "metadata": {
    "colab": {
      "name": "DiplomaUpd.ipynb",
      "provenance": [],
      "collapsed_sections": [],
      "authorship_tag": "ABX9TyMqReRBK0W7xyAF92nj0InF",
      "include_colab_link": true
    },
    "kernelspec": {
      "name": "python3",
      "display_name": "Python 3"
    },
    "language_info": {
      "name": "python"
    }
  },
  "cells": [
    {
      "cell_type": "markdown",
      "metadata": {
        "id": "view-in-github",
        "colab_type": "text"
      },
      "source": [
        "<a href=\"https://colab.research.google.com/github/AndrewDiv/PMfMIVV/blob/main/DiplomaUpd.ipynb\" target=\"_parent\"><img src=\"https://colab.research.google.com/assets/colab-badge.svg\" alt=\"Open In Colab\"/></a>"
      ]
    },
    {
      "cell_type": "markdown",
      "source": [
        "# Imports"
      ],
      "metadata": {
        "id": "0sPgdJhm4yCD"
      }
    },
    {
      "cell_type": "code",
      "execution_count": null,
      "metadata": {
        "id": "VKwhxMSGMDRL"
      },
      "outputs": [],
      "source": [
        "import numpy as np\n",
        "import time\n",
        "from scipy import optimize"
      ]
    },
    {
      "cell_type": "markdown",
      "source": [
        "# Simulator"
      ],
      "metadata": {
        "id": "Quz4tRXI41nB"
      }
    },
    {
      "cell_type": "code",
      "source": [
        "def Prevalence(host_num, single_strain_prob = 0.3):\n",
        "  \"\"\" Simulate prevalence of strains in the host\n",
        "    \n",
        "  Parameters\n",
        "  ----------\n",
        "  host_num : int\n",
        "    Number of patients\n",
        "  single_strain_prob : float\n",
        "    The probability that the host carries only one strain\n",
        "       \n",
        "  Returns\n",
        "  -------\n",
        "  prevs: ndarray, shape (host_num,)\n",
        "    List of prevalence of one strain\n",
        "  \"\"\"\n",
        "  prevs = np.zeros(host_num)\n",
        "  for i in range(host_num):\n",
        "    rnd = np.random.uniform()\n",
        "    if rnd < single_strain_prob:\n",
        "      prevs[i] = np.random.choice([0., 1.])\n",
        "    else:\n",
        "      prevs[i] = np.random.uniform()\n",
        "  return prevs"
      ],
      "metadata": {
        "id": "KfhWNVM1MMUE"
      },
      "execution_count": null,
      "outputs": []
    },
    {
      "cell_type": "code",
      "source": [
        "def pi_i(r_s, prevs, er_rate):\n",
        "  return prevs*(r_s[0]*(1 - er_rate) + (1 - r_s[0])*er_rate) + (1-prevs)*(r_s[1]*(1 - er_rate) + (1 - r_s[1])*er_rate)\n",
        "\n",
        "def SimulateReads(haps, prevs, coverage = 100,  er_rate = 0.01):\n",
        "  \"\"\" Simulate reads from one host\n",
        "    \n",
        "  Parameters\n",
        "  ----------\n",
        "  haps : ndarray, shape (n, m)\n",
        "    List of haplotypes\n",
        "  prevs: ndarray, shape (k,)\n",
        "    List of prevalences\n",
        "  coverage: int\n",
        "    Number of reads that cover sites\n",
        "  er_rate: float\n",
        "    Error rate \n",
        "       \n",
        "  Returns\n",
        "  -------\n",
        "  data: ndarray, shape (host_num, hap_len, hap_num)\n",
        "    Array of the number of observations of different alleles at each site\n",
        "     for all patients\n",
        "  \"\"\"\n",
        "  hap_len = len(haps[0])\n",
        "  hap_num = len(haps)\n",
        "  host_num = prevs.shape[0]\n",
        "  data = np.empty((host_num, hap_len, hap_num))\n",
        "  #print(hap_len, hap_num)\n",
        "  for host in range(host_num):\n",
        "    for snv in range(hap_len):\n",
        "      als = np.zeros(hap_num)\n",
        "      lcoverage = coverage\n",
        "      als[1] = np.random.binomial(lcoverage, pi_i([haps[0][snv], haps[1][snv]], prevs[host], er_rate))\n",
        "      als[0] = lcoverage - als[1]\n",
        "      data[host][snv] = als\n",
        "    \n",
        "  return data"
      ],
      "metadata": {
        "id": "AtYBeZ_8kfmb"
      },
      "execution_count": null,
      "outputs": []
    },
    {
      "cell_type": "markdown",
      "source": [
        "# Log-Likelihood"
      ],
      "metadata": {
        "id": "QkdjgmuM4-_Q"
      }
    },
    {
      "cell_type": "code",
      "source": [
        "def LogFactorial(n):\n",
        "  return sum(np.log(np.arange(1, n+1)))\n",
        "\n",
        "def Coeff(reads):\n",
        "  coeff = 0\n",
        "  for _reads in reads:\n",
        "    coeff += LogFactorial(_reads[0] + _reads[1]) - LogFactorial(_reads[1]) - LogFactorial(_reads[0])\n",
        "  return coeff"
      ],
      "metadata": {
        "id": "IP1Lq2cR1gHK"
      },
      "execution_count": null,
      "outputs": []
    },
    {
      "cell_type": "code",
      "source": [
        "def SingleHostLLH(prev, haps, samp_reads, er_rate=0.):\n",
        "  \"\"\" Calculate minus log-likelihood of a single host\n",
        "    \n",
        "  Parameters\n",
        "  ----------\n",
        "  prev : float\n",
        "    prevalence of 1st strain\n",
        "  haps : ndarray, shape (hap_num, hap_len)\n",
        "    List of haplotypes\n",
        "  samp_reads: ndarray, shape (hap_len, hap_num)\n",
        "    reads of host\n",
        "  er_rate: float\n",
        "    Error rate \n",
        "       \n",
        "  Returns\n",
        "  -------\n",
        "  -llh: float\n",
        "    log-likelihood of a single host\n",
        "  \"\"\"\n",
        "  llh = Coeff(samp_reads)\n",
        "  for snv in range(len(samp_reads)):\n",
        "    p = prev*(haps[0][snv]*(1.0 - er_rate) + (1.0 - haps[0][snv])*er_rate) + (1-prev)*(haps[1][snv]*(1.0 - er_rate) + (1.0 - haps[1][snv])*er_rate)\n",
        "    #if p <= 0:\n",
        "    #  print(\"snv probs in haps: \", [haps[i][snv] for i in range(hap_num)])\n",
        "    #  print(\"error rate: \", er_rate) \n",
        "    #  print(\"prevs:\", prev)\n",
        "    \n",
        "    llh += samp_reads[snv][1] * np.log(p) + samp_reads[snv][0] * np.log(1.0 - p)\n",
        "  return -llh\n",
        "\n",
        "def LLH(haps, prevs, samples, num_of_haplotypes, er_rate):\n",
        "  \"\"\" Calculate minus log-likelihood of the hosts\n",
        "    \n",
        "  Parameters\n",
        "  ----------\n",
        "  haps : ndarray, shape (hap_num, m)\n",
        "    List of haplotypes\n",
        "  prevs: ndarray, shape (k,)\n",
        "    List of prevalences of 1st strain\n",
        "  samples: ndarray, shape (n, m, hap_num)\n",
        "    reads of all hosts\n",
        "  num_of_haplotypes: int\n",
        "    hap_num\n",
        "  er_rate: float\n",
        "    Error rate \n",
        "       \n",
        "  Returns\n",
        "  -------\n",
        "  -llh: float\n",
        "    log-likelihood of the whole sample\n",
        "  \"\"\"  \n",
        "  haps = np.reshape(haps, (num_of_haplotypes, -1))\n",
        "  #print(haps)\n",
        "  llh = 0\n",
        "  for sample_num in range(len(samples)):\n",
        "      llh += SingleHostLLH(prevs[sample_num], haps, samples[sample_num], er_rate)\n",
        "  #print('LLH:', llh)\n",
        "  return llh"
      ],
      "metadata": {
        "id": "LVkhnhbd4wEk"
      },
      "execution_count": null,
      "outputs": []
    },
    {
      "cell_type": "markdown",
      "source": [
        "# Optimisation"
      ],
      "metadata": {
        "id": "fW8EU9NzxlGP"
      }
    },
    {
      "cell_type": "code",
      "source": [
        "def optimise_prevs_const_haps(haps, prevs, samp_reads, hap_num=2, er_rate=0.):\n",
        "  haps = np.reshape(haps, (hap_num, -1))\n",
        "  #prevs = np.reshape(prevs, (len(samp_reads), -1))\n",
        "  #print(prevs.shape)\n",
        "  llh = 0.\n",
        "  opt_prevs = np.empty(len(prevs))\n",
        "  bnds = optimize.Bounds(0., 1.)\n",
        "  #bnds = ((0, 1),)\n",
        "  for host_num in range(len(samp_reads)):\n",
        "    opt_res = optimize.minimize(SingleHostLLH, prevs[host_num], args=(haps, samp_reads[host_num], er_rate),\n",
        "                                method='trust-constr', bounds=bnds, options = {'xtol': 1e-6, 'gtol': 1e-6, 'barrier_tol': 1e-6, 'maxiter': 100})\n",
        "    opt_prevs[host_num] = opt_res.x\n",
        "    llh += opt_res.fun\n",
        "    \n",
        "  return opt_prevs"
      ],
      "metadata": {
        "id": "SFHuO8MGSsQf"
      },
      "execution_count": null,
      "outputs": []
    },
    {
      "cell_type": "code",
      "source": [
        "def optimise_haps_const_prevs(haps, prevs, samp_reads, num_of_hapl=2, er_rate=0.):\n",
        "  #print(haps)\n",
        "  #prevs = np.reshape(prevs, (len(samp_reads), -1))\n",
        "  bnds = optimize.Bounds([0. for _ in range(len(haps))], [1. for _ in range(len(haps))])\n",
        "  #bnds = ((0., 1.), ) * len(haps)\n",
        "  opt_res = optimize.minimize(LLH, haps, args=(prevs, samp_reads, num_of_hapl, er_rate),\n",
        "                                method='trust-constr', bounds=bnds, \n",
        "                                options = {'xtol': 1e-6, 'gtol': 1e-6, 'barrier_tol': 1e-6, 'maxiter': 100})\n",
        "  opt_haps = opt_res.x\n",
        "\n",
        "  return opt_haps"
      ],
      "metadata": {
        "id": "Io6NLK66NaWz"
      },
      "execution_count": null,
      "outputs": []
    },
    {
      "cell_type": "markdown",
      "source": [
        "# Testing"
      ],
      "metadata": {
        "id": "DSG7npvtqSWF"
      }
    },
    {
      "cell_type": "code",
      "source": [
        "exmp_haplotypes = [[1., 1., 0., 0.],\n",
        "              [0., 0., 1., 1.]] # Probabilistic description of haplotypes\n",
        "\n",
        "hap_len = len(exmp_haplotypes[0]) # Number of sites\n",
        "coverage = 100 # coverage sites\n",
        "hap_num = len(exmp_haplotypes)  # Number of haplotypes(strains)\n",
        "samp_num = 10  # Number of samples(patients)\n",
        "er_rate = 0.00  # Error rate\n",
        "\n",
        "np.random.seed(2022)"
      ],
      "metadata": {
        "id": "Ld-JumM1qVcE"
      },
      "execution_count": null,
      "outputs": []
    },
    {
      "cell_type": "code",
      "source": [
        "exmp_prevs = Prevalence(samp_num, 0.3)\n",
        "#print(exmp_prevs)\n",
        "\n",
        "patients_data = SimulateReads(exmp_haplotypes, exmp_prevs, er_rate= 0.)\n",
        "#print(patients_data)\n",
        "\n"
      ],
      "metadata": {
        "id": "EH24SxCqqmJK"
      },
      "execution_count": null,
      "outputs": []
    },
    {
      "cell_type": "code",
      "source": [
        "start_time = time.time()\n",
        "\n",
        "haps_init = np.random.uniform(size = hap_num * hap_len)\n",
        "prev_init = np.random.uniform(size = samp_num)\n",
        "\n",
        "\n",
        "opt_haps = optimise_haps_const_prevs(haps_init, prev_init, patients_data)\n",
        "opt_prevs = optimise_prevs_const_haps(opt_haps, prev_init, patients_data)\n",
        "\n",
        "for _ in range(6):\n",
        "    opt_haps = optimise_haps_const_prevs(opt_haps, opt_prevs, patients_data)\n",
        "    opt_prevs = optimise_prevs_const_haps(opt_haps, opt_prevs, patients_data)\n",
        "\n",
        "print(\"time elapsed: {:.2f}s\".format(time.time() - start_time))\n",
        "\n",
        "print('RESULT')\n",
        "print(\"opt_haps:\", np.reshape(opt_haps, (hap_num, -1)))\n",
        "print(\"real_haps:\", exmp_haplotypes)\n",
        "print(\"opt_prevs:\", opt_prevs)\n",
        "print(\"real_prevs:\", exmp_prevs)"
      ],
      "metadata": {
        "id": "rjQPap3Kqr1q",
        "colab": {
          "base_uri": "https://localhost:8080/"
        },
        "outputId": "0ed6e261-d46f-4a92-f7e1-b1335d15b418"
      },
      "execution_count": null,
      "outputs": [
        {
          "output_type": "stream",
          "name": "stderr",
          "text": [
            "/usr/local/lib/python3.7/dist-packages/ipykernel_launcher.py:28: RuntimeWarning: invalid value encountered in log\n",
            "/usr/local/lib/python3.7/dist-packages/ipykernel_launcher.py:28: RuntimeWarning: invalid value encountered in log\n",
            "/usr/local/lib/python3.7/dist-packages/ipykernel_launcher.py:28: RuntimeWarning: invalid value encountered in log\n",
            "/usr/local/lib/python3.7/dist-packages/ipykernel_launcher.py:28: RuntimeWarning: invalid value encountered in log\n",
            "/usr/local/lib/python3.7/dist-packages/ipykernel_launcher.py:28: RuntimeWarning: invalid value encountered in log\n",
            "/usr/local/lib/python3.7/dist-packages/ipykernel_launcher.py:28: RuntimeWarning: invalid value encountered in log\n",
            "/usr/local/lib/python3.7/dist-packages/ipykernel_launcher.py:28: RuntimeWarning: invalid value encountered in log\n",
            "/usr/local/lib/python3.7/dist-packages/ipykernel_launcher.py:28: RuntimeWarning: invalid value encountered in log\n",
            "/usr/local/lib/python3.7/dist-packages/ipykernel_launcher.py:28: RuntimeWarning: invalid value encountered in log\n",
            "/usr/local/lib/python3.7/dist-packages/ipykernel_launcher.py:28: RuntimeWarning: invalid value encountered in log\n",
            "/usr/local/lib/python3.7/dist-packages/ipykernel_launcher.py:28: RuntimeWarning: invalid value encountered in log\n",
            "/usr/local/lib/python3.7/dist-packages/ipykernel_launcher.py:28: RuntimeWarning: invalid value encountered in log\n",
            "/usr/local/lib/python3.7/dist-packages/ipykernel_launcher.py:28: RuntimeWarning: invalid value encountered in log\n",
            "/usr/local/lib/python3.7/dist-packages/ipykernel_launcher.py:28: RuntimeWarning: invalid value encountered in log\n",
            "/usr/local/lib/python3.7/dist-packages/ipykernel_launcher.py:28: RuntimeWarning: invalid value encountered in log\n",
            "/usr/local/lib/python3.7/dist-packages/ipykernel_launcher.py:28: RuntimeWarning: invalid value encountered in log\n",
            "/usr/local/lib/python3.7/dist-packages/ipykernel_launcher.py:28: RuntimeWarning: invalid value encountered in log\n",
            "/usr/local/lib/python3.7/dist-packages/ipykernel_launcher.py:28: RuntimeWarning: invalid value encountered in log\n"
          ]
        },
        {
          "output_type": "stream",
          "name": "stdout",
          "text": [
            "time elapsed: 16.85s\n",
            "RESULT\n",
            "opt_haps: [[0.97190829 0.98719267 0.01597062 0.01185343]\n",
            " [0.23274418 0.21420453 0.75323307 0.75671918]]\n",
            "real_haps: [[1.0, 1.0, 0.0, 0.0], [0.0, 0.0, 1.0, 1.0]]\n",
            "opt_prevs: [9.99916430e-01 2.21104406e-02 5.11515332e-05 8.74051197e-01\n",
            " 8.29995002e-01 8.17758885e-01 7.98641671e-01 2.02577751e-01\n",
            " 1.17416054e-01 9.78389218e-01]\n",
            "real_prevs: [1.         0.25531005 0.         0.89765723 0.89696312 0.83135342\n",
            " 0.83357958 0.36804444 0.33950947 0.97752964]\n"
          ]
        }
      ]
    },
    {
      "cell_type": "markdown",
      "source": [
        "#Simultaneous optimisation"
      ],
      "metadata": {
        "id": "RlcQD6R0NxqS"
      }
    },
    {
      "cell_type": "code",
      "source": [
        "def SmlLLH(prev_haps, samp_reads, er_rate=0.):\n",
        "  \"\"\" Calculate minus log-likelihood of a sample\n",
        "    \n",
        "  Parameters\n",
        "  ----------\n",
        "  prev_haps : ndarray, shape (n + hap_len*hap_num,)\n",
        "    prevalence and haplotypes of sample\n",
        "  samp_reads: ndarray, shape (n, hap_len, hap_num)\n",
        "    reads of hosts\n",
        "  er_rate: float\n",
        "    Error rate \n",
        "       \n",
        "  Returns\n",
        "  -------\n",
        "  -llh: float\n",
        "    log-likelihood of sample\n",
        "  \"\"\"\n",
        "  pn = samp_reads.shape[0]\n",
        "  hl = samp_reads.shape[1]\n",
        "  llh = 0.\n",
        "  for sample_num in range(pn):\n",
        "    llh += Coeff(samp_reads[sample_num])\n",
        "    #print(Coeff(samp_reads[sample_num]))\n",
        "    #print(\"llh:\", llh)\n",
        "    #print(\"llh:\",len(llh))\n",
        "    for snv in range(hl):\n",
        "      p = prev_haps[sample_num]*(prev_haps[pn+snv]*(1.0 - er_rate) + (1.0 - prev_haps[pn+snv])*er_rate) + (1-prev_haps[sample_num])*(prev_haps[pn+hl+snv]*(1.0 - er_rate) + (1.0 - prev_haps[pn+hl+snv])*er_rate)\n",
        "      #if p <= 0:\n",
        "      #  print(\"snv probs in haps: \", [prev_haps[pn+snv], prev_haps[pn+hl+snv]])\n",
        "      #  print(\"error rate: \", er_rate) \n",
        "      #  print(\"prevs:\", prev_haps[sample_num])\n",
        "      llh += samp_reads[sample_num][snv][1] * np.log(p) + samp_reads[sample_num][snv][0] * np.log(1.0 - p)\n",
        "  return -llh"
      ],
      "metadata": {
        "id": "3wpnwTgrK8TV"
      },
      "execution_count": null,
      "outputs": []
    },
    {
      "cell_type": "code",
      "source": [
        "def optimise_haps_and_prevs(prev_haps, samp_reads, er_rate=0.):\n",
        "  bnds = optimize.Bounds([0. for _ in range(len(prev_haps))], [1. for _ in range(len(prev_haps))])\n",
        "  #bnds = ((0., 1.), ) * len(prev_haps)\n",
        "  #print(samp_reads.shape)\n",
        "  opt_res = optimize.minimize(SmlLLH, prev_haps, args=(samp_reads, er_rate),\n",
        "                                method='trust-constr', bounds=bnds, \n",
        "                                options = {'xtol': 1e-6, 'gtol': 1e-6, 'barrier_tol': 1e-6, 'maxiter': 100})\n",
        "  opt_haps = opt_res.x\n",
        "\n",
        "  return opt_haps"
      ],
      "metadata": {
        "id": "ZvVw1qrBmoqF"
      },
      "execution_count": null,
      "outputs": []
    },
    {
      "cell_type": "markdown",
      "source": [
        "#Simultaneous optimisation Testing"
      ],
      "metadata": {
        "id": "UHIx8-1-xV-X"
      }
    },
    {
      "cell_type": "code",
      "source": [
        "start_time = time.time()\n",
        "\n",
        "#haps_init = np.random.uniform(size = hap_num * hap_len)\n",
        "#prev_init = np.random.uniform(size = samp_num)\n",
        "prev_haps_init = np.random.uniform(size = samp_num + hap_num*hap_len)\n",
        "\n",
        "#opt_haps = optimise_haps_const_prevs(haps_init, prev_init, patients_data)\n",
        "#opt_prevs = optimise_prevs_const_haps(opt_haps, prev_init, patients_data)\n",
        "opt_prev_haps = optimise_haps_and_prevs(prev_haps_init, patients_data, er_rate)\n",
        "\n",
        "\n",
        "for _ in range(6):\n",
        "    opt_prev_haps = optimise_haps_and_prevs(opt_prev_haps, patients_data)\n",
        "\n",
        "print(\"time elapsed: {:.2f}s\".format(time.time() - start_time))\n",
        "\n",
        "print('RESULT')\n",
        "print(\"opt_prevs:\", opt_prev_haps[:samp_num])\n",
        "print(\"real_prevs:\", exmp_prevs)\n",
        "print(\"opt_haps:\", np.reshape(opt_prev_haps[samp_num:], (hap_num, -1)))\n",
        "print(\"real_haps:\", exmp_haplotypes)\n"
      ],
      "metadata": {
        "id": "Bb0_yZVgtfGz",
        "colab": {
          "base_uri": "https://localhost:8080/"
        },
        "outputId": "844110e2-0671-4e30-a4cd-30d399a05449"
      },
      "execution_count": null,
      "outputs": [
        {
          "output_type": "stream",
          "name": "stderr",
          "text": [
            "/usr/local/lib/python3.7/dist-packages/ipykernel_launcher.py:32: RuntimeWarning: invalid value encountered in log\n",
            "/usr/local/lib/python3.7/dist-packages/ipykernel_launcher.py:32: RuntimeWarning: invalid value encountered in log\n",
            "/usr/local/lib/python3.7/dist-packages/ipykernel_launcher.py:32: RuntimeWarning: invalid value encountered in log\n",
            "/usr/local/lib/python3.7/dist-packages/ipykernel_launcher.py:32: RuntimeWarning: invalid value encountered in log\n",
            "/usr/local/lib/python3.7/dist-packages/ipykernel_launcher.py:32: RuntimeWarning: invalid value encountered in log\n",
            "/usr/local/lib/python3.7/dist-packages/ipykernel_launcher.py:32: RuntimeWarning: invalid value encountered in log\n"
          ]
        },
        {
          "output_type": "stream",
          "name": "stdout",
          "text": [
            "time elapsed: 13.98s\n",
            "RESULT\n",
            "opt_prevs: [9.99999986e-01 2.52499980e-01 1.53552038e-08 8.90000064e-01\n",
            " 8.87500060e-01 8.45000097e-01 8.32500059e-01 3.85000005e-01\n",
            " 3.22499992e-01 9.65000126e-01]\n",
            "real_prevs: [1.         0.25531005 0.         0.89765723 0.89696312 0.83135342\n",
            " 0.83357958 0.36804444 0.33950947 0.97752964]\n",
            "opt_haps: [[9.99999701e-01 9.99999938e-01 4.73462121e-08 4.21744098e-08]\n",
            " [5.94266669e-08 4.40103940e-08 9.99999928e-01 9.99999925e-01]]\n",
            "real_haps: [[1.0, 1.0, 0.0, 0.0], [0.0, 0.0, 1.0, 1.0]]\n"
          ]
        }
      ]
    },
    {
      "cell_type": "code",
      "source": [
        ""
      ],
      "metadata": {
        "id": "Pq2399GDZHPA"
      },
      "execution_count": null,
      "outputs": []
    }
  ]
}